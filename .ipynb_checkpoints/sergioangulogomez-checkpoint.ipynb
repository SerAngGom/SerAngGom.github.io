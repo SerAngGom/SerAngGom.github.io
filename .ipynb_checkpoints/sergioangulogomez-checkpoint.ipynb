{
 "cells": [
  {
   "cell_type": "markdown",
   "id": "d268fa5f",
   "metadata": {},
   "source": [
    "# Programa para identificar el tipo de triangulo segun sus lados.\n",
    "## En este programa en lenguaje pyton vamos a introducir la longitud de los lados de un triangulo a nuestra elección y este nos dira si se trata de un triangulo escaleno, isosceles o equilatero."
   ]
  },
  {
   "cell_type": "markdown",
   "id": "c911b241",
   "metadata": {},
   "source": [
    "Nos encontramos en la situación de que nos dan los lados de un triangulo y no sabemos como clasificarlo.\n",
    "Partiendo de este punto debemos crear un programa para oidentificar cada uno de sus lados y decidir el tipo de triangulo que es."
   ]
  },
  {
   "cell_type": "markdown",
   "id": "c20b4e51",
   "metadata": {},
   "source": [
    "Nosotros sabemos como clasificar los triangulos según la longitud de los lados mediante los siguientes datos:\n",
    "- Equilatero si todos los lados miden lo mismo.\n",
    "- Isosceles si dos lados del triangulo son iguales y uno es diferente.\n",
    "- Escaleno si todos los lados son diferentes."
   ]
  },
  {
   "cell_type": "markdown",
   "id": "9cbb2751",
   "metadata": {},
   "source": [
    "Comenzamos el programa introduciendo los tres datos que, serán la distancia de los lados del triangulo. en este caso cada lado tedra una medida con un valor entero."
   ]
  },
  {
   "cell_type": "code",
   "execution_count": 17,
   "id": "43574086",
   "metadata": {},
   "outputs": [
    {
     "name": "stdout",
     "output_type": "stream",
     "text": [
      "Introduce la longitud del lado1 del triangulo: 5\n",
      "Introduce la longitud del lado2 del triangulo: 4\n",
      "Introduce la longitud del lado3 del triangulo: 5\n"
     ]
    }
   ],
   "source": [
    "# Entrada de datos\n",
    "lado1 = int(input('Introduce la longitud del lado1 del triangulo: '))\n",
    "lado2 = int(input('Introduce la longitud del lado2 del triangulo: '))\n",
    "lado3 = int(input('Introduce la longitud del lado3 del triangulo: '))"
   ]
  },
  {
   "cell_type": "markdown",
   "id": "b80c97c8",
   "metadata": {},
   "source": [
    "Lado1, lado2 y lado3 son los valores que introducimos para saber la medida de cada lado del triangulo.\n",
    "Int significa que su valor tiene que ser un numero entero, en caso de ser decimal tendriamos que poner float.\n",
    "input significa que cuando ejecutemos el programa al que lo ejecute se le pedira que introduzca algo.\n",
    "Y el texto que aparece entre comillas es el texto que le aparecera al usuario cuando ejecute el programa y es necesario para que el usuario sepa que introducir."
   ]
  },
  {
   "cell_type": "markdown",
   "id": "60f547fc",
   "metadata": {},
   "source": [
    "Ahora haremos la primera comprobación para saber si el triangulo es valido o no.\n",
    "Sabemos que un triangulo es valido cuando la suma de dos de sus lados es mayor que el lado restante.\n",
    "Si Sabeos esta premisa, lo que haremos en pythomn e scomprobar cuando no es valido, por lo que si sumamos dos de sus lados si el tercero es mayor o igual el triangulo no será valido."
   ]
  },
  {
   "cell_type": "code",
   "execution_count": 18,
   "id": "c434560a",
   "metadata": {},
   "outputs": [
    {
     "name": "stdout",
     "output_type": "stream",
     "text": [
      "Introduce la longitud del lado1 del triangulo: 60\n",
      "Introduce la longitud del lado2 del triangulo: 5\n",
      "Introduce la longitud del lado3 del triangulo: 5\n",
      "No es un triángulo valido\n"
     ]
    }
   ],
   "source": [
    "lado1 = int(input('Introduce la longitud del lado1 del triangulo: '))\n",
    "lado2 = int(input('Introduce la longitud del lado2 del triangulo: '))\n",
    "lado3 = int(input('Introduce la longitud del lado3 del triangulo: '))\n",
    "# Comprobamos si el triangulo es valido/ puede existir.\n",
    "if lado1 + lado2 <= lado3 or lado2 + lado3 <= lado1 or lado1 + lado3 <= lado2:\n",
    "    print('No es un triángulo valido')"
   ]
  },
  {
   "cell_type": "markdown",
   "id": "60324128",
   "metadata": {},
   "source": [
    "Sumamos dos lados y comparamos el restante para ver si es mayor o igual a la suma.\n",
    "Este proceso lo hacemos tres veces para comprobar todas las posivilidades y los separamos con un or porque si una de esas tres posibilidades se cumple sabemos que el triangulo no el valido."
   ]
  },
  {
   "cell_type": "markdown",
   "id": "e87aba4d",
   "metadata": {},
   "source": [
    "Ahora comprobaremos cuando el triangulo es válido y si es equilatero, isosceles o escaleno."
   ]
  },
  {
   "cell_type": "markdown",
   "id": "88d45e83",
   "metadata": {},
   "source": [
    "Continuamos con el codigo."
   ]
  },
  {
   "cell_type": "code",
   "execution_count": 19,
   "id": "0ad3a301",
   "metadata": {},
   "outputs": [
    {
     "name": "stdout",
     "output_type": "stream",
     "text": [
      "Introduce la longitud del lado1 del triangulo: 5\n",
      "Introduce la longitud del lado2 del triangulo: 5\n",
      "Introduce la longitud del lado3 del triangulo: 4\n",
      "Es un triangulo isosceles\n"
     ]
    }
   ],
   "source": [
    "lado1 = int(input('Introduce la longitud del lado1 del triangulo: '))\n",
    "lado2 = int(input('Introduce la longitud del lado2 del triangulo: '))\n",
    "lado3 = int(input('Introduce la longitud del lado3 del triangulo: '))\n",
    "# Comprobamos si el triangulo es valido/ puede existir.\n",
    "if lado1 + lado2 <= lado3 or lado2 + lado3 <= lado1 or lado1 + lado3 <= lado2:\n",
    "    print('No es un triángulo valido')\n",
    "else:\n",
    "    if lado1==lado2==lado3:\n",
    "        print('Es un triangulo equilatero')\n",
    "    elif lado1==lado2 or lado2==lado3 or lado3==lado1:\n",
    "        print('Es un triangulo isosceles')\n",
    "    else:\n",
    "        print('Es un triangulo escaleno')"
   ]
  },
  {
   "cell_type": "markdown",
   "id": "c0098941",
   "metadata": {},
   "source": [
    "Después de la explicación anterior utilizamos un else para indicar que si el triangulo no cumple la condición de invalido hago lo que hay a continuación del else, lo que significa que el triangulo es valido y podemos clasificarlo.\n",
    "- En el primer if despues del else comparamos todos los lados para saber si todos son iguales, y en el caso de que lo sean el triángulo sea equilatero el programa imprimirá por pantalla que es un triagulo equilatero.\n",
    "- En el elif posterior que significa lo mismo que else if lo que lo que hacemos es que si no se cumple la condición anterior es decir que no es equilatero, y se cumple la condición que hemos puesto , que lo que hace es comparar los lados dos a dos a ver si son iguales, el programa nos dira que el triangulo es isosceles.\n",
    "- Por último el else del final hace que si no es ni equilatero, ni isosceles, nos encontramos son un triangulo escaleno, el else lo que hace es que si no se cumplen las condiciones puestas en su misma columna se ejecutará lo que hay dentro de su apartado."
   ]
  },
  {
   "cell_type": "markdown",
   "id": "55040e8e",
   "metadata": {},
   "source": [
    "Así termina la explicación de este programa.\n",
    "Gracias por vuestra atención y espero que os haya sido de ayuda."
   ]
  }
 ],
 "metadata": {
  "kernelspec": {
   "display_name": "Python 3 (ipykernel)",
   "language": "python",
   "name": "python3"
  },
  "language_info": {
   "codemirror_mode": {
    "name": "ipython",
    "version": 3
   },
   "file_extension": ".py",
   "mimetype": "text/x-python",
   "name": "python",
   "nbconvert_exporter": "python",
   "pygments_lexer": "ipython3",
   "version": "3.8.12"
  }
 },
 "nbformat": 4,
 "nbformat_minor": 5
}
